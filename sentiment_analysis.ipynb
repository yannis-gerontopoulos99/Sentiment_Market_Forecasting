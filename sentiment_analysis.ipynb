{
 "cells": [
  {
   "cell_type": "code",
   "execution_count": 3,
   "metadata": {},
   "outputs": [],
   "source": [
    "# Import the Hugging Face transformer tokenizer and model for sequence classification\n",
    "from transformers import AutoTokenizer, AutoModelForSequenceClassification, pipeline\n",
    "import torch  # PyTorch for deep learning operations\n",
    "import scipy  # Scientific computing library\n",
    "\n",
    "# Importing data manipulation and visualization libraries\n",
    "import pandas as pd  # Pandas for handling structured data (DataFrames)\n",
    "import matplotlib.pyplot as plt  # Matplotlib for data visualization\n"
   ]
  },
  {
   "cell_type": "markdown",
   "metadata": {},
   "source": [
    "Simple Sentiment Analysis using a list of strings"
   ]
  },
  {
   "cell_type": "code",
   "execution_count": 4,
   "metadata": {},
   "outputs": [
    {
     "name": "stdout",
     "output_type": "stream",
     "text": [
      "WARNING:tensorflow:From C:\\Users\\yanbl\\AppData\\Roaming\\Python\\Python312\\site-packages\\tf_keras\\src\\losses.py:2976: The name tf.losses.sparse_softmax_cross_entropy is deprecated. Please use tf.compat.v1.losses.sparse_softmax_cross_entropy instead.\n",
      "\n"
     ]
    },
    {
     "name": "stderr",
     "output_type": "stream",
     "text": [
      "Some weights of the model checkpoint at cardiffnlp/twitter-roberta-base-sentiment-latest were not used when initializing RobertaForSequenceClassification: ['roberta.pooler.dense.bias', 'roberta.pooler.dense.weight']\n",
      "- This IS expected if you are initializing RobertaForSequenceClassification from the checkpoint of a model trained on another task or with another architecture (e.g. initializing a BertForSequenceClassification model from a BertForPreTraining model).\n",
      "- This IS NOT expected if you are initializing RobertaForSequenceClassification from the checkpoint of a model that you expect to be exactly identical (initializing a BertForSequenceClassification model from a BertForSequenceClassification model).\n",
      "Device set to use cpu\n"
     ]
    },
    {
     "name": "stdout",
     "output_type": "stream",
     "text": [
      "Text: I love you\n",
      "Sentiment: positive, Score: 0.8595\n",
      "\n",
      "Text: I hate you\n",
      "Sentiment: negative, Score: 0.7867\n",
      "\n"
     ]
    }
   ],
   "source": [
    "# Define the sentiment analysis pipeline\n",
    "model_name = \"cardiffnlp/twitter-roberta-base-sentiment-latest\"\n",
    "sentiment_pipeline = pipeline(\"sentiment-analysis\", model=model_name, tokenizer=model_name)\n",
    "\n",
    "# Example data\n",
    "data = [\"I love you\", \"I hate you\"]\n",
    "\n",
    "# Perform sentiment analysis\n",
    "results = sentiment_pipeline(data)\n",
    "\n",
    "# Print results\n",
    "for text, result in zip(data, results):\n",
    "    print(f\"Text: {text}\\nSentiment: {result['label']}, Score: {result['score']:.4f}\\n\")"
   ]
  },
  {
   "cell_type": "markdown",
   "metadata": {},
   "source": [
    "Sentiment Analysis on Dataframe and printing all scores"
   ]
  },
  {
   "cell_type": "code",
   "execution_count": 5,
   "metadata": {},
   "outputs": [],
   "source": [
    "df = pd.read_csv('AAPL_articles.csv')"
   ]
  },
  {
   "cell_type": "code",
   "execution_count": 6,
   "metadata": {},
   "outputs": [
    {
     "data": {
      "text/html": [
       "<div>\n",
       "<style scoped>\n",
       "    .dataframe tbody tr th:only-of-type {\n",
       "        vertical-align: middle;\n",
       "    }\n",
       "\n",
       "    .dataframe tbody tr th {\n",
       "        vertical-align: top;\n",
       "    }\n",
       "\n",
       "    .dataframe thead th {\n",
       "        text-align: right;\n",
       "    }\n",
       "</style>\n",
       "<table border=\"1\" class=\"dataframe\">\n",
       "  <thead>\n",
       "    <tr style=\"text-align: right;\">\n",
       "      <th></th>\n",
       "      <th>Date</th>\n",
       "      <th>Title</th>\n",
       "    </tr>\n",
       "  </thead>\n",
       "  <tbody>\n",
       "    <tr>\n",
       "      <th>0</th>\n",
       "      <td>2025-02-17</td>\n",
       "      <td>Apple's (AAPL) iPhone Sees Improved Shipment G...</td>\n",
       "    </tr>\n",
       "    <tr>\n",
       "      <th>1</th>\n",
       "      <td>2025-02-17</td>\n",
       "      <td>Apple (AAPL) Sees Improved iPhone Sales in Chi...</td>\n",
       "    </tr>\n",
       "    <tr>\n",
       "      <th>2</th>\n",
       "      <td>2025-02-17</td>\n",
       "      <td>Apple (AAPL) Plans to Enhance Vision Pro with ...</td>\n",
       "    </tr>\n",
       "    <tr>\n",
       "      <th>3</th>\n",
       "      <td>2025-02-17</td>\n",
       "      <td>Apple Integrates AI Technology Into Apple Visi...</td>\n",
       "    </tr>\n",
       "    <tr>\n",
       "      <th>4</th>\n",
       "      <td>2025-02-17</td>\n",
       "      <td>Apple's Next-Gen MacBook Pro with M5 Chip Expe...</td>\n",
       "    </tr>\n",
       "    <tr>\n",
       "      <th>...</th>\n",
       "      <td>...</td>\n",
       "      <td>...</td>\n",
       "    </tr>\n",
       "    <tr>\n",
       "      <th>1759</th>\n",
       "      <td>2023-01-04</td>\n",
       "      <td>7 Fun Facts About Apple Stock In 2022</td>\n",
       "    </tr>\n",
       "    <tr>\n",
       "      <th>1760</th>\n",
       "      <td>2023-01-04</td>\n",
       "      <td>Apple’s (AAPL) Stock Is Losing Its Shine After...</td>\n",
       "    </tr>\n",
       "    <tr>\n",
       "      <th>1761</th>\n",
       "      <td>2023-01-03</td>\n",
       "      <td>Apple's market cap falls under $2 trillion as ...</td>\n",
       "    </tr>\n",
       "    <tr>\n",
       "      <th>1762</th>\n",
       "      <td>2023-01-03</td>\n",
       "      <td>NASDAQ AAPL – Elliott Wave Projection</td>\n",
       "    </tr>\n",
       "    <tr>\n",
       "      <th>1763</th>\n",
       "      <td>2023-01-03</td>\n",
       "      <td>Why Apple Stock Dropped on Jan. 3, 2023</td>\n",
       "    </tr>\n",
       "  </tbody>\n",
       "</table>\n",
       "<p>1764 rows × 2 columns</p>\n",
       "</div>"
      ],
      "text/plain": [
       "            Date                                              Title\n",
       "0     2025-02-17  Apple's (AAPL) iPhone Sees Improved Shipment G...\n",
       "1     2025-02-17  Apple (AAPL) Sees Improved iPhone Sales in Chi...\n",
       "2     2025-02-17  Apple (AAPL) Plans to Enhance Vision Pro with ...\n",
       "3     2025-02-17  Apple Integrates AI Technology Into Apple Visi...\n",
       "4     2025-02-17  Apple's Next-Gen MacBook Pro with M5 Chip Expe...\n",
       "...          ...                                                ...\n",
       "1759  2023-01-04              7 Fun Facts About Apple Stock In 2022\n",
       "1760  2023-01-04  Apple’s (AAPL) Stock Is Losing Its Shine After...\n",
       "1761  2023-01-03  Apple's market cap falls under $2 trillion as ...\n",
       "1762  2023-01-03              NASDAQ AAPL – Elliott Wave Projection\n",
       "1763  2023-01-03            Why Apple Stock Dropped on Jan. 3, 2023\n",
       "\n",
       "[1764 rows x 2 columns]"
      ]
     },
     "execution_count": 6,
     "metadata": {},
     "output_type": "execute_result"
    }
   ],
   "source": [
    "df"
   ]
  },
  {
   "cell_type": "code",
   "execution_count": 7,
   "metadata": {},
   "outputs": [
    {
     "name": "stderr",
     "output_type": "stream",
     "text": [
      "Some weights of the model checkpoint at cardiffnlp/twitter-roberta-base-sentiment-latest were not used when initializing RobertaForSequenceClassification: ['roberta.pooler.dense.bias', 'roberta.pooler.dense.weight']\n",
      "- This IS expected if you are initializing RobertaForSequenceClassification from the checkpoint of a model trained on another task or with another architecture (e.g. initializing a BertForSequenceClassification model from a BertForPreTraining model).\n",
      "- This IS NOT expected if you are initializing RobertaForSequenceClassification from the checkpoint of a model that you expect to be exactly identical (initializing a BertForSequenceClassification model from a BertForSequenceClassification model).\n"
     ]
    }
   ],
   "source": [
    "# Load the model and tokenizer\n",
    "model_name = \"cardiffnlp/twitter-roberta-base-sentiment-latest\"\n",
    "\n",
    "model = AutoModelForSequenceClassification.from_pretrained(model_name)\n",
    "tokenizer = AutoTokenizer.from_pretrained(model_name)"
   ]
  },
  {
   "cell_type": "code",
   "execution_count": 8,
   "metadata": {},
   "outputs": [
    {
     "data": {
      "text/plain": [
       "RobertaForSequenceClassification(\n",
       "  (roberta): RobertaModel(\n",
       "    (embeddings): RobertaEmbeddings(\n",
       "      (word_embeddings): Embedding(50265, 768, padding_idx=1)\n",
       "      (position_embeddings): Embedding(514, 768, padding_idx=1)\n",
       "      (token_type_embeddings): Embedding(1, 768)\n",
       "      (LayerNorm): LayerNorm((768,), eps=1e-05, elementwise_affine=True)\n",
       "      (dropout): Dropout(p=0.1, inplace=False)\n",
       "    )\n",
       "    (encoder): RobertaEncoder(\n",
       "      (layer): ModuleList(\n",
       "        (0-11): 12 x RobertaLayer(\n",
       "          (attention): RobertaAttention(\n",
       "            (self): RobertaSdpaSelfAttention(\n",
       "              (query): Linear(in_features=768, out_features=768, bias=True)\n",
       "              (key): Linear(in_features=768, out_features=768, bias=True)\n",
       "              (value): Linear(in_features=768, out_features=768, bias=True)\n",
       "              (dropout): Dropout(p=0.1, inplace=False)\n",
       "            )\n",
       "            (output): RobertaSelfOutput(\n",
       "              (dense): Linear(in_features=768, out_features=768, bias=True)\n",
       "              (LayerNorm): LayerNorm((768,), eps=1e-05, elementwise_affine=True)\n",
       "              (dropout): Dropout(p=0.1, inplace=False)\n",
       "            )\n",
       "          )\n",
       "          (intermediate): RobertaIntermediate(\n",
       "            (dense): Linear(in_features=768, out_features=3072, bias=True)\n",
       "            (intermediate_act_fn): GELUActivation()\n",
       "          )\n",
       "          (output): RobertaOutput(\n",
       "            (dense): Linear(in_features=3072, out_features=768, bias=True)\n",
       "            (LayerNorm): LayerNorm((768,), eps=1e-05, elementwise_affine=True)\n",
       "            (dropout): Dropout(p=0.1, inplace=False)\n",
       "          )\n",
       "        )\n",
       "      )\n",
       "    )\n",
       "  )\n",
       "  (classifier): RobertaClassificationHead(\n",
       "    (dense): Linear(in_features=768, out_features=768, bias=True)\n",
       "    (dropout): Dropout(p=0.1, inplace=False)\n",
       "    (out_proj): Linear(in_features=768, out_features=3, bias=True)\n",
       "  )\n",
       ")"
      ]
     },
     "execution_count": 8,
     "metadata": {},
     "output_type": "execute_result"
    }
   ],
   "source": [
    "# Move model to GPU if available\n",
    "device = torch.device(\"cuda\" if torch.cuda.is_available() else \"cpu\")\n",
    "model.to(device)"
   ]
  },
  {
   "cell_type": "code",
   "execution_count": 9,
   "metadata": {},
   "outputs": [],
   "source": [
    "# Define sentiment analysis function\n",
    "def sentiment_analysis(text: str) -> tuple[float, float, float, str]:\n",
    "    with torch.no_grad():  # Disable gradient computation for inference\n",
    "        inputs = tokenizer(\n",
    "            text, return_tensors=\"pt\", padding=True, truncation=True, max_length=512\n",
    "        ).to(device)  # Move input tensors to the same device as the model\n",
    "        \n",
    "        outputs = model(**inputs)  # Get model predictions\n",
    "        logits = outputs.logits  # Extract raw prediction scores (logits)\n",
    "\n",
    "        # Convert logits to numpy array (on CPU) before applying softmax\n",
    "        scores = {\n",
    "            k: v\n",
    "            for k, v in zip(\n",
    "                model.config.id2label.values(),  # Get sentiment labels\n",
    "                scipy.special.softmax(logits.cpu().numpy().squeeze(), axis=0)  # Move logits to CPU before processing\n",
    "            )\n",
    "        }\n",
    "\n",
    "        return (\n",
    "            scores[\"positive\"],  # Probability of positive sentiment\n",
    "            scores[\"negative\"],  # Probability of negative sentiment\n",
    "            scores[\"neutral\"],  # Probability of neutral sentiment\n",
    "            max(scores, key=scores.get)  # Sentiment label with the highest probability\n",
    "        )\n"
   ]
  },
  {
   "cell_type": "code",
   "execution_count": 10,
   "metadata": {},
   "outputs": [],
   "source": [
    "# Apply sentiment analysis to the 'Title' column\n",
    "df[[\"positive_score\", \"negative_score\", \"neutral_score\", \"sentiment\"]] = (\n",
    "    df[\"Title\"].apply(sentiment_analysis).apply(pd.Series)\n",
    ")"
   ]
  },
  {
   "cell_type": "code",
   "execution_count": 11,
   "metadata": {},
   "outputs": [],
   "source": [
    "# Compute a final sentiment score by subtracting negative sentiment probability from positive sentiment probability\n",
    "df[\"score\"] = df[\"positive_score\"] - df[\"negative_score\"]"
   ]
  },
  {
   "cell_type": "code",
   "execution_count": 12,
   "metadata": {},
   "outputs": [
    {
     "data": {
      "text/html": [
       "<div>\n",
       "<style scoped>\n",
       "    .dataframe tbody tr th:only-of-type {\n",
       "        vertical-align: middle;\n",
       "    }\n",
       "\n",
       "    .dataframe tbody tr th {\n",
       "        vertical-align: top;\n",
       "    }\n",
       "\n",
       "    .dataframe thead th {\n",
       "        text-align: right;\n",
       "    }\n",
       "</style>\n",
       "<table border=\"1\" class=\"dataframe\">\n",
       "  <thead>\n",
       "    <tr style=\"text-align: right;\">\n",
       "      <th></th>\n",
       "      <th>Date</th>\n",
       "      <th>Title</th>\n",
       "      <th>positive_score</th>\n",
       "      <th>negative_score</th>\n",
       "      <th>neutral_score</th>\n",
       "      <th>sentiment</th>\n",
       "      <th>score</th>\n",
       "    </tr>\n",
       "  </thead>\n",
       "  <tbody>\n",
       "    <tr>\n",
       "      <th>0</th>\n",
       "      <td>2025-02-17</td>\n",
       "      <td>Apple's (AAPL) iPhone Sees Improved Shipment G...</td>\n",
       "      <td>0.799238</td>\n",
       "      <td>0.003745</td>\n",
       "      <td>0.197017</td>\n",
       "      <td>positive</td>\n",
       "      <td>0.795494</td>\n",
       "    </tr>\n",
       "    <tr>\n",
       "      <th>1</th>\n",
       "      <td>2025-02-17</td>\n",
       "      <td>Apple (AAPL) Sees Improved iPhone Sales in Chi...</td>\n",
       "      <td>0.832733</td>\n",
       "      <td>0.004285</td>\n",
       "      <td>0.162982</td>\n",
       "      <td>positive</td>\n",
       "      <td>0.828448</td>\n",
       "    </tr>\n",
       "    <tr>\n",
       "      <th>2</th>\n",
       "      <td>2025-02-17</td>\n",
       "      <td>Apple (AAPL) Plans to Enhance Vision Pro with ...</td>\n",
       "      <td>0.840967</td>\n",
       "      <td>0.002550</td>\n",
       "      <td>0.156483</td>\n",
       "      <td>positive</td>\n",
       "      <td>0.838416</td>\n",
       "    </tr>\n",
       "    <tr>\n",
       "      <th>3</th>\n",
       "      <td>2025-02-17</td>\n",
       "      <td>Apple Integrates AI Technology Into Apple Visi...</td>\n",
       "      <td>0.623318</td>\n",
       "      <td>0.004908</td>\n",
       "      <td>0.371774</td>\n",
       "      <td>positive</td>\n",
       "      <td>0.618410</td>\n",
       "    </tr>\n",
       "    <tr>\n",
       "      <th>4</th>\n",
       "      <td>2025-02-17</td>\n",
       "      <td>Apple's Next-Gen MacBook Pro with M5 Chip Expe...</td>\n",
       "      <td>0.596642</td>\n",
       "      <td>0.003863</td>\n",
       "      <td>0.399495</td>\n",
       "      <td>positive</td>\n",
       "      <td>0.592779</td>\n",
       "    </tr>\n",
       "    <tr>\n",
       "      <th>...</th>\n",
       "      <td>...</td>\n",
       "      <td>...</td>\n",
       "      <td>...</td>\n",
       "      <td>...</td>\n",
       "      <td>...</td>\n",
       "      <td>...</td>\n",
       "      <td>...</td>\n",
       "    </tr>\n",
       "    <tr>\n",
       "      <th>1759</th>\n",
       "      <td>2023-01-04</td>\n",
       "      <td>7 Fun Facts About Apple Stock In 2022</td>\n",
       "      <td>0.906020</td>\n",
       "      <td>0.002943</td>\n",
       "      <td>0.091037</td>\n",
       "      <td>positive</td>\n",
       "      <td>0.903077</td>\n",
       "    </tr>\n",
       "    <tr>\n",
       "      <th>1760</th>\n",
       "      <td>2023-01-04</td>\n",
       "      <td>Apple’s (AAPL) Stock Is Losing Its Shine After...</td>\n",
       "      <td>0.010366</td>\n",
       "      <td>0.876844</td>\n",
       "      <td>0.112790</td>\n",
       "      <td>negative</td>\n",
       "      <td>-0.866477</td>\n",
       "    </tr>\n",
       "    <tr>\n",
       "      <th>1761</th>\n",
       "      <td>2023-01-03</td>\n",
       "      <td>Apple's market cap falls under $2 trillion as ...</td>\n",
       "      <td>0.045483</td>\n",
       "      <td>0.459175</td>\n",
       "      <td>0.495342</td>\n",
       "      <td>neutral</td>\n",
       "      <td>-0.413692</td>\n",
       "    </tr>\n",
       "    <tr>\n",
       "      <th>1762</th>\n",
       "      <td>2023-01-03</td>\n",
       "      <td>NASDAQ AAPL – Elliott Wave Projection</td>\n",
       "      <td>0.176756</td>\n",
       "      <td>0.006645</td>\n",
       "      <td>0.816599</td>\n",
       "      <td>neutral</td>\n",
       "      <td>0.170112</td>\n",
       "    </tr>\n",
       "    <tr>\n",
       "      <th>1763</th>\n",
       "      <td>2023-01-03</td>\n",
       "      <td>Why Apple Stock Dropped on Jan. 3, 2023</td>\n",
       "      <td>0.068844</td>\n",
       "      <td>0.255931</td>\n",
       "      <td>0.675226</td>\n",
       "      <td>neutral</td>\n",
       "      <td>-0.187087</td>\n",
       "    </tr>\n",
       "  </tbody>\n",
       "</table>\n",
       "<p>1764 rows × 7 columns</p>\n",
       "</div>"
      ],
      "text/plain": [
       "            Date                                              Title  \\\n",
       "0     2025-02-17  Apple's (AAPL) iPhone Sees Improved Shipment G...   \n",
       "1     2025-02-17  Apple (AAPL) Sees Improved iPhone Sales in Chi...   \n",
       "2     2025-02-17  Apple (AAPL) Plans to Enhance Vision Pro with ...   \n",
       "3     2025-02-17  Apple Integrates AI Technology Into Apple Visi...   \n",
       "4     2025-02-17  Apple's Next-Gen MacBook Pro with M5 Chip Expe...   \n",
       "...          ...                                                ...   \n",
       "1759  2023-01-04              7 Fun Facts About Apple Stock In 2022   \n",
       "1760  2023-01-04  Apple’s (AAPL) Stock Is Losing Its Shine After...   \n",
       "1761  2023-01-03  Apple's market cap falls under $2 trillion as ...   \n",
       "1762  2023-01-03              NASDAQ AAPL – Elliott Wave Projection   \n",
       "1763  2023-01-03            Why Apple Stock Dropped on Jan. 3, 2023   \n",
       "\n",
       "      positive_score  negative_score  neutral_score sentiment     score  \n",
       "0           0.799238        0.003745       0.197017  positive  0.795494  \n",
       "1           0.832733        0.004285       0.162982  positive  0.828448  \n",
       "2           0.840967        0.002550       0.156483  positive  0.838416  \n",
       "3           0.623318        0.004908       0.371774  positive  0.618410  \n",
       "4           0.596642        0.003863       0.399495  positive  0.592779  \n",
       "...              ...             ...            ...       ...       ...  \n",
       "1759        0.906020        0.002943       0.091037  positive  0.903077  \n",
       "1760        0.010366        0.876844       0.112790  negative -0.866477  \n",
       "1761        0.045483        0.459175       0.495342   neutral -0.413692  \n",
       "1762        0.176756        0.006645       0.816599   neutral  0.170112  \n",
       "1763        0.068844        0.255931       0.675226   neutral -0.187087  \n",
       "\n",
       "[1764 rows x 7 columns]"
      ]
     },
     "execution_count": 12,
     "metadata": {},
     "output_type": "execute_result"
    }
   ],
   "source": [
    "df"
   ]
  },
  {
   "cell_type": "code",
   "execution_count": 13,
   "metadata": {},
   "outputs": [
    {
     "data": {
      "image/png": "[encoded data removed]",
      "text/plain": [
       "<Figure size 800x600 with 1 Axes>"
      ]
     },
     "metadata": {},
     "output_type": "display_data"
    }
   ],
   "source": [
    "plt.figure(figsize=(8, 6))  # Set the figure size\n",
    "\n",
    "# Plot the histogram of sentiment scores\n",
    "plt.hist(df['score'], bins=30, color='skyblue', edgecolor='black', alpha=0.7)\n",
    "\n",
    "# Add a title and labels\n",
    "plt.title(\"Distribution of Sentiment Scores\", fontsize=14, fontweight='bold')\n",
    "plt.xlabel(\"Sentiment Score (Positive - Negative)\", fontsize=12)\n",
    "plt.ylabel(\"Frequency\", fontsize=12)\n",
    "\n",
    "# Add a vertical line at 0 to indicate the neutral sentiment threshold\n",
    "plt.axvline(0, color='red', linestyle='dashed', linewidth=1.5, label=\"Neutral (Score = 0)\")\n",
    "\n",
    "# Add a legend\n",
    "plt.legend()\n",
    "\n",
    "# Show the plot\n",
    "plt.show()\n"
   ]
  },
  {
   "cell_type": "code",
   "execution_count": null,
   "metadata": {},
   "outputs": [],
   "source": []
  }
 ],
 "metadata": {
  "kernelspec": {
   "display_name": "Python 3",
   "language": "python",
   "name": "python3"
  },
  "language_info": {
   "codemirror_mode": {
    "name": "ipython",
    "version": 3
   },
   "file_extension": ".py",
   "mimetype": "text/x-python",
   "name": "python",
   "nbconvert_exporter": "python",
   "pygments_lexer": "ipython3",
   "version": "3.12.9"
  }
 },
 "nbformat": 4,
 "nbformat_minor": 2
}
